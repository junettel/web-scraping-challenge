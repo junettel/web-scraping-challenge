{
 "metadata": {
  "language_info": {
   "codemirror_mode": {
    "name": "ipython",
    "version": 3
   },
   "file_extension": ".py",
   "mimetype": "text/x-python",
   "name": "python",
   "nbconvert_exporter": "python",
   "pygments_lexer": "ipython3",
   "version": "3.8.5-final"
  },
  "orig_nbformat": 2,
  "kernelspec": {
   "name": "python3",
   "display_name": "Python 3.8.5 64-bit ('Junette Lee': virtualenv)",
   "metadata": {
    "interpreter": {
     "hash": "93b6e77ce45583e5f5bf9e9c38935e395506d64981e16d36072ba896676da407"
    }
   }
  }
 },
 "nbformat": 4,
 "nbformat_minor": 2,
 "cells": [
  {
   "cell_type": "code",
   "execution_count": 1,
   "metadata": {},
   "outputs": [],
   "source": [
    "import pandas as pd\n",
    "from splinter import Browser\n",
    "from bs4 import BeautifulSoup as bs\n",
    "from webdriver_manager.chrome import ChromeDriverManager"
   ]
  },
  {
   "cell_type": "code",
   "execution_count": 2,
   "metadata": {},
   "outputs": [
    {
     "output_type": "stream",
     "name": "stderr",
     "text": [
      "[WDM] - ====== WebDriver manager ======\n",
      "[WDM] - Current google-chrome version is 89.0.4389\n",
      "[WDM] - Get LATEST driver version for 89.0.4389\n",
      "\n",
      "\n",
      "[WDM] - Driver [C:\\Users\\Junette Lee\\.wdm\\drivers\\chromedriver\\win32\\89.0.4389.23\\chromedriver.exe] found in cache\n"
     ]
    }
   ],
   "source": [
    "# Setup splinter\n",
    "executable_path = {'executable_path': ChromeDriverManager().install()}\n",
    "browser = Browser('chrome', **executable_path, headless=False)"
   ]
  },
  {
   "cell_type": "code",
   "execution_count": 3,
   "metadata": {},
   "outputs": [],
   "source": [
    "# Define browser url to scrape\n",
    "url = 'https://mars.nasa.gov/news/'\n",
    "browser.visit(url)"
   ]
  },
  {
   "cell_type": "code",
   "execution_count": 12,
   "metadata": {},
   "outputs": [],
   "source": [
    "# Write to HTML using BeautifulSoup\n",
    "html = browser.html\n",
    "soup = bs(html, 'html.parser')\n",
    "# print(soup.prettify())"
   ]
  },
  {
   "cell_type": "code",
   "execution_count": 15,
   "metadata": {},
   "outputs": [],
   "source": [
    "# Create lists to hold variables for reference later\n",
    "news_title_list = []\n",
    "news_p_list = []\n",
    "news_url_list = []\n",
    "url_list = []"
   ]
  },
  {
   "cell_type": "code",
   "execution_count": 56,
   "metadata": {},
   "outputs": [
    {
     "output_type": "execute_result",
     "data": {
      "text/plain": [
       "40"
      ]
     },
     "metadata": {},
     "execution_count": 56
    }
   ],
   "source": [
    "# Find iterable list containing news info\n",
    "articles = soup.find_all('li', class_='slide')\n",
    "len(articles)"
   ]
  },
  {
   "cell_type": "code",
   "execution_count": 57,
   "metadata": {},
   "outputs": [
    {
     "output_type": "stream",
     "name": "stdout",
     "text": [
      "<li class=\"slide\">\n <div class=\"image_and_description_container\">\n  <a href=\"/news/8896/nasa-ingenuity-mars-helicopter-prepares-for-first-flight/\" target=\"_self\">\n   <div class=\"rollover_description\">\n    <div class=\"rollover_description_inner\">\n     Now uncocooned from its protective carbon-fiber shield, the helicopter is being readied for its next steps.\n    </div>\n    <div class=\"overlay_arrow\">\n     <img alt=\"More\" src=\"/assets/overlay-arrow.png\"/>\n    </div>\n   </div>\n   <div class=\"list_image\">\n    <img alt=\"An illustration of NASA’s Ingenuity Helicopter flying on Mars. \" src=\"/system/news_items/list_view_images/8896_thumb-320.jpg\"/>\n   </div>\n   <div class=\"bottom_gradient\">\n    <div>\n     <h3>\n      NASA Ingenuity Mars Helicopter Prepares for First Flight\n     </h3>\n    </div>\n   </div>\n  </a>\n  <div class=\"list_text\">\n   <div class=\"list_date\">\n    March 23, 2021\n   </div>\n   <div class=\"content_title\">\n    <a href=\"/news/8896/nasa-ingenuity-mars-helicopter-prepares-for-first-flight/\" target=\"_self\">\n     NASA Ingenuity Mars Helicopter Prepares for First Flight\n    </a>\n   </div>\n   <div class=\"article_teaser_body\">\n    Now uncocooned from its protective carbon-fiber shield, the helicopter is being readied for its next steps.\n   </div>\n  </div>\n </div>\n</li>\n\n"
     ]
    }
   ],
   "source": [
    "print(articles[0].prettify())"
   ]
  },
  {
   "cell_type": "code",
   "execution_count": 58,
   "metadata": {},
   "outputs": [
    {
     "output_type": "stream",
     "name": "stdout",
     "text": [
      "--------------------------------------------\nNASA Ingenuity Mars Helicopter Prepares for First Flight\nNow uncocooned from its protective carbon-fiber shield, the helicopter is being readied for its next steps.  \n/news/8896/nasa-ingenuity-mars-helicopter-prepares-for-first-flight/\n--------------------------------------------\nAnother First: Perseverance Captures the Sounds of Driving on Mars\nNASA’s newest rover recorded audio of itself crunching over the surface of the Red Planet, adding a whole new dimension to Mars exploration.\n/news/8892/another-first-perseverance-captures-the-sounds-of-driving-on-mars/\n--------------------------------------------\nNASA to Host Briefing to Preview First Mars Helicopter Flights\nMembers of the projects will lay out the steps necessary before the helicopter attempts its historic test flights. \n/news/8891/nasa-to-host-briefing-to-preview-first-mars-helicopter-flights/\n--------------------------------------------\nNew Study Challenges Long-Held Theory of Fate of Mars' Water\nThe new science results indicate that a large quantity of the Red Planet’s water is trapped in its crust rather than having escaped into space.\n/news/8888/new-study-challenges-long-held-theory-of-fate-of-mars-water/\n--------------------------------------------\nNASA's Perseverance Mars Rover Mission Honors Navajo Language\nWorking with the Navajo Nation, the rover team has named features on Mars with words from the Navajo language.\n/news/8886/nasas-perseverance-mars-rover-mission-honors-navajo-language/\n--------------------------------------------\nPerseverance Rover's SuperCam Science Instrument Delivers First Results\nData from the powerful science tool includes sounds of its laser zapping a rock in order to test what it’s made of.\n/news/8885/perseverance-rovers-supercam-science-instrument-delivers-first-results/\n--------------------------------------------\nNASA's Perseverance Drives on Mars' Terrain for First Time\nThe first trek of the agency’s largest, most advanced rover yet on the Red Planet marks a major milestone before science operations get under way.\n/news/8882/nasas-perseverance-drives-on-mars-terrain-for-first-time/\n--------------------------------------------\nMedia Telecon Materials - March 5, 2021\nMission team members are participating in a virtual teleconference to discuss milestones achieved so far since the Feb. 18 landing and those to come.\n/news/8881/media-telecon-materials-march-5-2021/\n--------------------------------------------\nNASA Awards Mars Ascent Propulsion System Contract for Sample Return\nThe award moves NASA and ESA a step closer to realizing Mars Sample Return, an ambitious planetary exploration program that will build upon decades of science, knowledge, and experience.\n/news/8880/nasa-awards-mars-ascent-propulsion-system-contract-for-sample-return/\n--------------------------------------------\nNASA to Provide Update on Perseverance ‘Firsts' Since Mars Landing \nMission team members are participating in a virtual teleconference to discuss milestones achieved so far since the Feb. 18 landing and those to come.\n/news/8878/nasa-to-provide-update-on-perseverance-firsts-since-mars-landing/\n--------------------------------------------\nTesting Proves Its Worth With Successful Mars Parachute Deployment\nThe giant canopy that helped land Perseverance on Mars was tested here on Earth at NASA’s Wallops Flight Facility in Virginia.\n/news/8875/testing-proves-its-worth-with-successful-mars-parachute-deployment/\n--------------------------------------------\nNASA's Perseverance Rover Gives High-Definition Panoramic View of Landing Site\nA 360-degree panorama taken by the rover’s Mastcam-Z instrument will be discussed during a public video chat this Thursday.\n/news/8873/nasas-perseverance-rover-gives-high-definition-panoramic-view-of-landing-site/\n--------------------------------------------\nNearly 11 Million Names of Earthlings are on Mars Perseverance\nWhen the Perseverance rover safely touched down on the Martian surface, inside Jezero Crater, on Feb. 18, 2021, it was also a safe landing for the nearly 11 million names on board.\n/news/8872/nearly-11-million-names-of-earthlings-are-on-mars-perseverance/\n--------------------------------------------\nNASA's Mars Perseverance Rover Provides Front-Row Seat to Landing, First Audio Recording of Red Planet \nThe agency’s newest rover captured first-of-its kind footage of its Feb. 18 touchdown and has recorded audio of Martian wind.\n\n\n/news/8870/nasas-mars-perseverance-rover-provides-front-row-seat-to-landing-first-audio-recording-of-red-planet/\n--------------------------------------------\nNASA to Reveal New Video, Images From Mars Perseverance Rover\nFirst-of-its kind footage from the agency’s newest rover will be presented during a briefing this morning.\n/news/8868/nasa-to-reveal-new-video-images-from-mars-perseverance-rover/\n--------------------------------------------\nNASA's Mars Helicopter Reports In \nThe technology demonstration has phoned home from where it is attached to the belly of NASA’s Perseverance rover. \n/news/8867/nasas-mars-helicopter-reports-in/\n--------------------------------------------\nNASA's Perseverance Rover Sends Sneak Peek of Mars Landing\nThe six-wheeled robot’s latest data since touching down yesterday include a hi-res image captured as the rover’s jetpack lowered it to the ground.\n/news/8866/nasas-perseverance-rover-sends-sneak-peek-of-mars-landing/\n--------------------------------------------\nTouchdown! NASA's Mars Perseverance Rover Safely Lands on Red Planet\nThe agency’s latest and most complex mission to the Red Planet has touched down at Jezero Crater. Now it’s time to begin testing the health of the rover.  \n/news/8865/touchdown-nasas-mars-perseverance-rover-safely-lands-on-red-planet/\n--------------------------------------------\nSearching for Life in NASA's Perseverance Mars Samples\nWhen the agency’s newest rover mission searches for fossilized microscopic life on the Red Planet, how will scientists know whether they’ve found it?\n/news/8863/searching-for-life-in-nasas-perseverance-mars-samples/\n--------------------------------------------\nThe Mars Relay Network Connects Us to NASA's Martian Explorers\nA tightly choreographed dance between NASA’s Deep Space Network and Mars orbiters will keep the agency’s Perseverance in touch with Earth during landing and beyond.\n/news/8861/the-mars-relay-network-connects-us-to-nasas-martian-explorers/\n--------------------------------------------\nNASA's Next Mars Rover Is Ready for the Most Precise Landing Yet\nWhat to expect when the Mars 2020 Perseverance rover arrives at the Red Planet on Feb. 18, 2021.\n/news/8860/nasas-next-mars-rover-is-ready-for-the-most-precise-landing-yet/\n--------------------------------------------\nSensors Prepare to Collect Data as Perseverance Enters Mars' Atmosphere\nTechnology will collect critical data about the harsh entry environment during Perseverance’s entry next Thursday.\n/news/8859/sensors-prepare-to-collect-data-as-perseverance-enters-mars-atmosphere/\n--------------------------------------------\nInSight Is Meeting the Challenge of Winter on Dusty Mars\nAs dust collects on the solar panels and winter comes to Elysium Planitia, the team is following a plan to reduce science operations in order to keep the lander safe.\n/news/8858/insight-is-meeting-the-challenge-of-winter-on-dusty-mars/\n--------------------------------------------\nNASA Invites Public to Share Thrill of Mars Perseverance Rover Landing\nMark your calendars for live landing commentary, news briefings, livestreamed Q&As, virtual watch parties, student activities, and more.\n/news/8857/nasa-invites-public-to-share-thrill-of-mars-perseverance-rover-landing/\n--------------------------------------------\nTricky Terrain: Helping to Assure a Safe Rover Landing\nHow two new technologies will help Perseverance, NASA’s most sophisticated rover yet, touch down onto the surface of Mars this month.\n/news/8852/tricky-terrain-helping-to-assure-a-safe-rover-landing/\n--------------------------------------------\nWhere Should Future Astronauts Land on Mars? Follow the Water\nA new NASA paper provides the most detailed map to date of near-surface water ice on the Red Planet.\n/news/8851/where-should-future-astronauts-land-on-mars-follow-the-water/\n--------------------------------------------\nNASA's Perseverance Pays Off Back Home\nEven as the Perseverance rover approaches Mars, technology on board is paying off on Earth.\n/news/8848/nasas-perseverance-pays-off-back-home/\n--------------------------------------------\nCould the Surface of Phobos Reveal Secrets of the Martian Past?\nThe Martian moon Phobos orbits through a stream of charged atoms and molecules that flow off the Red Planet’s atmosphere, new research shows.\n/news/8846/could-the-surface-of-phobos-reveal-secrets-of-the-martian-past/\n--------------------------------------------\nNASA's MAVEN Continues to Advance Mars Science and Telecommunications Relay Efforts\nWith a suite of new national and international spacecraft primed to explore the Red Planet after their arrival next month, NASA’s MAVEN mission is ready to provide support and continue its study of the Martian atmosphere.\n/news/8844/nasas-maven-continues-to-advance-mars-science-and-telecommunications-relay-efforts/\n--------------------------------------------\nNASA's Perseverance Rover 22 Days From Mars Landing\nSeven minutes of harrowing descent to the Red Planet is in the not-so-distant future for the agency’s Mars 2020 mission.  \n/news/8843/nasas-perseverance-rover-22-days-from-mars-landing/\n--------------------------------------------\n6 Things to Know About NASA's Mars Helicopter on Its Way to Mars\nIngenuity, a technology experiment, is preparing to attempt the first powered, controlled flight on the Red Planet.\n/news/8840/6-things-to-know-about-nasas-mars-helicopter-on-its-way-to-mars/\n--------------------------------------------\nNASA to Host Virtual Briefing on February Perseverance Mars Rover Landing\nNASA leadership and members of the mission will discuss the agency’s latest rover, which touches down on the Red Planet on Feb. 18.\n/news/8837/nasa-to-host-virtual-briefing-on-february-perseverance-mars-rover-landing/\n--------------------------------------------\nNASA InSight's ‘Mole' Ends Its Journey on Mars\nThe heat probe hasn’t been able to gain the friction it needs to dig, but the mission has been granted an extension to carry on with its other science.\n/news/8836/nasa-insights-mole-ends-its-journey-on-mars/\n--------------------------------------------\nMars 2020 Perseverance Rover to Capture Sounds From the Red Planet\nAudio gathered by the mission may not sound quite the same on Mars as it would to our ears on Earth. A new interactive online experience lets you sample the difference.\n/news/8834/mars-2020-perseverance-rover-to-capture-sounds-from-the-red-planet/\n--------------------------------------------\nNASA's Curiosity Rover Reaches Its 3,000th Day on Mars\nAs the rover has continued to ascend Mount Sharp, it’s found distinctive benchlike rock formations.\n/news/8832/nasas-curiosity-rover-reaches-its-3000th-day-on-mars/\n--------------------------------------------\nCelebrate the Perseverance Rover Landing With NASA's Student Challenge\nThe rover touches down on the Red Planet next month, and students are invited to join the excitement by designing, building, and landing their own Mars mission. NASA can help.\n/news/8830/celebrate-the-perseverance-rover-landing-with-nasas-student-challenge/\n--------------------------------------------\nNASA Extends Exploration for Two Planetary Science Missions\nThe missions – Juno and InSight – have each increased our understanding of our solar system, as well as spurred new sets of diverse questions.\n/news/8829/nasa-extends-exploration-for-two-planetary-science-missions/\n--------------------------------------------\n7 Things to Know About the NASA Rover About to Land on Mars\nThe Mars 2020 Perseverance rover, which has started its approach to the Red Planet, will help answer the next logical question in Mars exploration.\n/news/8826/7-things-to-know-about-the-nasa-rover-about-to-land-on-mars/\n--------------------------------------------\nA Martian Roundtrip: NASA's Perseverance Rover Sample Tubes\nMarvels of engineering, the rover's sample tubes must be tough enough to safely bring Red Planet samples on the long journey back to Earth in immaculate condition. \n/news/8822/a-martian-roundtrip-nasas-perseverance-rover-sample-tubes/\n--------------------------------------------\nNASA Moves Forward With Campaign to Return Mars Samples to Earth\nDuring this next phase, the program will mature critical technologies and make critical design decisions as well as assess industry partnerships.\n/news/8819/nasa-moves-forward-with-campaign-to-return-mars-samples-to-earth/\n--------------------------------------------\n"
     ]
    }
   ],
   "source": [
    "# Loop to scrape latest news title and paragraph text\n",
    "print('--------------------------------------------')\n",
    "\n",
    "for article in articles:\n",
    "    try:\n",
    "        # Scrape title, paragraph text, link href\n",
    "        news_title = article.find(class_='content_title').text\n",
    "        news_p = article.find(class_='article_teaser_body').text\n",
    "        href = article.find('a')['href']\n",
    "\n",
    "        # Append variable lists with each iteration\n",
    "        news_title_list.append(news_title)\n",
    "        news_p_list.append(news_p)\n",
    "        news_url_list.append(href)\n",
    "\n",
    "        # Print values\n",
    "        print(news_title)\n",
    "        print(news_p)\n",
    "        print(href)\n",
    "        print('--------------------------------------------')\n",
    "\n",
    "    except:\n",
    "        print('*** Error! ***')"
   ]
  },
  {
   "cell_type": "code",
   "execution_count": 54,
   "metadata": {},
   "outputs": [
    {
     "output_type": "stream",
     "name": "stdout",
     "text": [
      "<li class=\"slide\">\n <div class=\"image_and_description_container\">\n  <a href=\"/news/8896/nasa-ingenuity-mars-helicopter-prepares-for-first-flight/\" target=\"_self\">\n   <div class=\"rollover_description\">\n    <div class=\"rollover_description_inner\">\n     Now uncocooned from its protective carbon-fiber shield, the helicopter is being readied for its next steps.\n    </div>\n    <div class=\"overlay_arrow\">\n     <img alt=\"More\" src=\"/assets/overlay-arrow.png\"/>\n    </div>\n   </div>\n   <div class=\"list_image\">\n    <img alt=\"An illustration of NASA’s Ingenuity Helicopter flying on Mars. \" src=\"/system/news_items/list_view_images/8896_thumb-320.jpg\"/>\n   </div>\n   <div class=\"bottom_gradient\">\n    <div>\n     <h3>\n      NASA Ingenuity Mars Helicopter Prepares for First Flight\n     </h3>\n    </div>\n   </div>\n  </a>\n  <div class=\"list_text\">\n   <div class=\"list_date\">\n    March 23, 2021\n   </div>\n   <div class=\"content_title\">\n    <a href=\"/news/8896/nasa-ingenuity-mars-helicopter-prepares-for-first-flight/\" target=\"_self\">\n     NASA Ingenuity Mars Helicopter Prepares for First Flight\n    </a>\n   </div>\n   <div class=\"article_teaser_body\">\n    Now uncocooned from its protective carbon-fiber shield, the helicopter is being readied for its next steps.\n   </div>\n  </div>\n </div>\n</li>\n\n"
     ]
    }
   ],
   "source": [
    "# Current featured Mars news article\n",
    "print(articles[0].prettify())"
   ]
  },
  {
   "cell_type": "code",
   "execution_count": null,
   "metadata": {},
   "outputs": [],
   "source": []
  },
  {
   "cell_type": "code",
   "execution_count": 45,
   "metadata": {},
   "outputs": [],
   "source": [
    "# Find image url for the current Featured Mars Image\n",
    "\n",
    "featured_image_url = "
   ]
  },
  {
   "cell_type": "code",
   "execution_count": null,
   "metadata": {},
   "outputs": [],
   "source": []
  },
  {
   "cell_type": "code",
   "execution_count": null,
   "metadata": {},
   "outputs": [],
   "source": []
  },
  {
   "cell_type": "code",
   "execution_count": null,
   "metadata": {},
   "outputs": [],
   "source": [
    "browser.quit()"
   ]
  },
  {
   "cell_type": "code",
   "execution_count": null,
   "metadata": {},
   "outputs": [],
   "source": []
  }
 ]
}