{
 "cells": [
  {
   "cell_type": "code",
   "execution_count": 1,
   "metadata": {},
   "outputs": [],
   "source": [
    "import pandas as pd\n",
    "from splinter import Browser\n",
    "from bs4 import BeautifulSoup as bs\n",
    "from webdriver_manager.chrome import ChromeDriverManager\n",
    "import time"
   ]
  },
  {
   "cell_type": "markdown",
   "metadata": {},
   "source": [
    "## Step 1 - Scraping\n",
    "\n",
    "Complete initial scraping using Jupyter Notebook, BeautifulSoup, Pandas, and Requests/Splinter."
   ]
  },
  {
   "cell_type": "code",
   "execution_count": 2,
   "metadata": {},
   "outputs": [
    {
     "output_type": "stream",
     "name": "stderr",
     "text": [
      "[WDM] - ====== WebDriver manager ======\n",
      "\n",
      "\n",
      "[WDM] - Current google-chrome version is 89.0.4389\n",
      "[WDM] - Get LATEST driver version for 89.0.4389\n",
      "[WDM] - Driver [C:\\Users\\Junette Lee\\.wdm\\drivers\\chromedriver\\win32\\89.0.4389.23\\chromedriver.exe] found in cache\n"
     ]
    }
   ],
   "source": [
    "# Setup splinter\n",
    "executable_path = {'executable_path': ChromeDriverManager().install()}\n",
    "browser = Browser('chrome', **executable_path, headless=False)"
   ]
  },
  {
   "cell_type": "markdown",
   "metadata": {},
   "source": [
    "### NASA Mars News\n",
    "\n",
    "* Scrape the [NASA Mars News Site](https://mars.nasa.gov/news/) and collect the latest News Title and Paragraph Text. Assign the text to variables that you can reference later."
   ]
  },
  {
   "cell_type": "code",
   "execution_count": 3,
   "metadata": {},
   "outputs": [],
   "source": [
    "# Define browser url to scrape\n",
    "url = 'https://mars.nasa.gov/news/'\n",
    "browser.visit(url)\n",
    "time.sleep(1)"
   ]
  },
  {
   "cell_type": "code",
   "execution_count": 4,
   "metadata": {},
   "outputs": [],
   "source": [
    "# Write to HTML using BeautifulSoup\n",
    "html = browser.html\n",
    "soup = bs(html, 'html.parser')\n",
    "# print(soup.prettify())"
   ]
  },
  {
   "cell_type": "code",
   "execution_count": 5,
   "metadata": {},
   "outputs": [],
   "source": [
    "# Create lists to hold variables for reference later\n",
    "news_title_list = []\n",
    "news_p_list = []\n",
    "news_href_list = []"
   ]
  },
  {
   "cell_type": "code",
   "execution_count": 6,
   "metadata": {},
   "outputs": [
    {
     "output_type": "stream",
     "name": "stdout",
     "text": [
      "List length: 40\n"
     ]
    }
   ],
   "source": [
    "# News articles returned in an iterable list\n",
    "articles = soup.find_all('li', class_='slide')\n",
    "print(f'List length: {len(articles)}')\n",
    "# print(articles[0].prettify())"
   ]
  },
  {
   "cell_type": "code",
   "execution_count": 7,
   "metadata": {
    "scrolled": true
   },
   "outputs": [
    {
     "output_type": "stream",
     "name": "stdout",
     "text": [
      "--------------------------------------------\n1\nNASA Ingenuity Mars Helicopter Prepares for First Flight\nNow uncocooned from its protective carbon-fiber shield, the helicopter is being readied for its next steps.  \n/news/8896/nasa-ingenuity-mars-helicopter-prepares-for-first-flight/\n--------------------------------------------\n2\nAnother First: Perseverance Captures the Sounds of Driving on Mars\nNASA’s newest rover recorded audio of itself crunching over the surface of the Red Planet, adding a whole new dimension to Mars exploration.\n/news/8892/another-first-perseverance-captures-the-sounds-of-driving-on-mars/\n--------------------------------------------\n3\nNASA to Host Briefing to Preview First Mars Helicopter Flights\nMembers of the projects will lay out the steps necessary before the helicopter attempts its historic test flights. \n/news/8891/nasa-to-host-briefing-to-preview-first-mars-helicopter-flights/\n--------------------------------------------\n4\nNew Study Challenges Long-Held Theory of Fate of Mars' Water\nThe new science results indicate that a large quantity of the Red Planet’s water is trapped in its crust rather than having escaped into space.\n/news/8888/new-study-challenges-long-held-theory-of-fate-of-mars-water/\n--------------------------------------------\n5\nNASA's Perseverance Mars Rover Mission Honors Navajo Language\nWorking with the Navajo Nation, the rover team has named features on Mars with words from the Navajo language.\n/news/8886/nasas-perseverance-mars-rover-mission-honors-navajo-language/\n--------------------------------------------\n6\nPerseverance Rover's SuperCam Science Instrument Delivers First Results\nData from the powerful science tool includes sounds of its laser zapping a rock in order to test what it’s made of.\n/news/8885/perseverance-rovers-supercam-science-instrument-delivers-first-results/\n--------------------------------------------\n7\nNASA's Perseverance Drives on Mars' Terrain for First Time\nThe first trek of the agency’s largest, most advanced rover yet on the Red Planet marks a major milestone before science operations get under way.\n/news/8882/nasas-perseverance-drives-on-mars-terrain-for-first-time/\n--------------------------------------------\n8\nMedia Telecon Materials - March 5, 2021\nMission team members are participating in a virtual teleconference to discuss milestones achieved so far since the Feb. 18 landing and those to come.\n/news/8881/media-telecon-materials-march-5-2021/\n--------------------------------------------\n9\nNASA Awards Mars Ascent Propulsion System Contract for Sample Return\nThe award moves NASA and ESA a step closer to realizing Mars Sample Return, an ambitious planetary exploration program that will build upon decades of science, knowledge, and experience.\n/news/8880/nasa-awards-mars-ascent-propulsion-system-contract-for-sample-return/\n--------------------------------------------\n10\nNASA to Provide Update on Perseverance ‘Firsts' Since Mars Landing \nMission team members are participating in a virtual teleconference to discuss milestones achieved so far since the Feb. 18 landing and those to come.\n/news/8878/nasa-to-provide-update-on-perseverance-firsts-since-mars-landing/\n--------------------------------------------\n11\nTesting Proves Its Worth With Successful Mars Parachute Deployment\nThe giant canopy that helped land Perseverance on Mars was tested here on Earth at NASA’s Wallops Flight Facility in Virginia.\n/news/8875/testing-proves-its-worth-with-successful-mars-parachute-deployment/\n--------------------------------------------\n12\nNASA's Perseverance Rover Gives High-Definition Panoramic View of Landing Site\nA 360-degree panorama taken by the rover’s Mastcam-Z instrument will be discussed during a public video chat this Thursday.\n/news/8873/nasas-perseverance-rover-gives-high-definition-panoramic-view-of-landing-site/\n--------------------------------------------\n13\nNearly 11 Million Names of Earthlings are on Mars Perseverance\nWhen the Perseverance rover safely touched down on the Martian surface, inside Jezero Crater, on Feb. 18, 2021, it was also a safe landing for the nearly 11 million names on board.\n/news/8872/nearly-11-million-names-of-earthlings-are-on-mars-perseverance/\n--------------------------------------------\n14\nNASA's Mars Perseverance Rover Provides Front-Row Seat to Landing, First Audio Recording of Red Planet \nThe agency’s newest rover captured first-of-its kind footage of its Feb. 18 touchdown and has recorded audio of Martian wind.\n\n\n/news/8870/nasas-mars-perseverance-rover-provides-front-row-seat-to-landing-first-audio-recording-of-red-planet/\n--------------------------------------------\n15\nNASA to Reveal New Video, Images From Mars Perseverance Rover\nFirst-of-its kind footage from the agency’s newest rover will be presented during a briefing this morning.\n/news/8868/nasa-to-reveal-new-video-images-from-mars-perseverance-rover/\n--------------------------------------------\n16\nNASA's Mars Helicopter Reports In \nThe technology demonstration has phoned home from where it is attached to the belly of NASA’s Perseverance rover. \n/news/8867/nasas-mars-helicopter-reports-in/\n--------------------------------------------\n17\nNASA's Perseverance Rover Sends Sneak Peek of Mars Landing\nThe six-wheeled robot’s latest data since touching down yesterday include a hi-res image captured as the rover’s jetpack lowered it to the ground.\n/news/8866/nasas-perseverance-rover-sends-sneak-peek-of-mars-landing/\n--------------------------------------------\n18\nTouchdown! NASA's Mars Perseverance Rover Safely Lands on Red Planet\nThe agency’s latest and most complex mission to the Red Planet has touched down at Jezero Crater. Now it’s time to begin testing the health of the rover.  \n/news/8865/touchdown-nasas-mars-perseverance-rover-safely-lands-on-red-planet/\n--------------------------------------------\n19\nSearching for Life in NASA's Perseverance Mars Samples\nWhen the agency’s newest rover mission searches for fossilized microscopic life on the Red Planet, how will scientists know whether they’ve found it?\n/news/8863/searching-for-life-in-nasas-perseverance-mars-samples/\n--------------------------------------------\n20\nThe Mars Relay Network Connects Us to NASA's Martian Explorers\nA tightly choreographed dance between NASA’s Deep Space Network and Mars orbiters will keep the agency’s Perseverance in touch with Earth during landing and beyond.\n/news/8861/the-mars-relay-network-connects-us-to-nasas-martian-explorers/\n--------------------------------------------\n21\nNASA's Next Mars Rover Is Ready for the Most Precise Landing Yet\nWhat to expect when the Mars 2020 Perseverance rover arrives at the Red Planet on Feb. 18, 2021.\n/news/8860/nasas-next-mars-rover-is-ready-for-the-most-precise-landing-yet/\n--------------------------------------------\n22\nSensors Prepare to Collect Data as Perseverance Enters Mars' Atmosphere\nTechnology will collect critical data about the harsh entry environment during Perseverance’s entry next Thursday.\n/news/8859/sensors-prepare-to-collect-data-as-perseverance-enters-mars-atmosphere/\n--------------------------------------------\n23\nInSight Is Meeting the Challenge of Winter on Dusty Mars\nAs dust collects on the solar panels and winter comes to Elysium Planitia, the team is following a plan to reduce science operations in order to keep the lander safe.\n/news/8858/insight-is-meeting-the-challenge-of-winter-on-dusty-mars/\n--------------------------------------------\n24\nNASA Invites Public to Share Thrill of Mars Perseverance Rover Landing\nMark your calendars for live landing commentary, news briefings, livestreamed Q&As, virtual watch parties, student activities, and more.\n/news/8857/nasa-invites-public-to-share-thrill-of-mars-perseverance-rover-landing/\n--------------------------------------------\n25\nTricky Terrain: Helping to Assure a Safe Rover Landing\nHow two new technologies will help Perseverance, NASA’s most sophisticated rover yet, touch down onto the surface of Mars this month.\n/news/8852/tricky-terrain-helping-to-assure-a-safe-rover-landing/\n--------------------------------------------\n26\nWhere Should Future Astronauts Land on Mars? Follow the Water\nA new NASA paper provides the most detailed map to date of near-surface water ice on the Red Planet.\n/news/8851/where-should-future-astronauts-land-on-mars-follow-the-water/\n--------------------------------------------\n27\nNASA's Perseverance Pays Off Back Home\nEven as the Perseverance rover approaches Mars, technology on board is paying off on Earth.\n/news/8848/nasas-perseverance-pays-off-back-home/\n--------------------------------------------\n28\nCould the Surface of Phobos Reveal Secrets of the Martian Past?\nThe Martian moon Phobos orbits through a stream of charged atoms and molecules that flow off the Red Planet’s atmosphere, new research shows.\n/news/8846/could-the-surface-of-phobos-reveal-secrets-of-the-martian-past/\n--------------------------------------------\n29\nNASA's MAVEN Continues to Advance Mars Science and Telecommunications Relay Efforts\nWith a suite of new national and international spacecraft primed to explore the Red Planet after their arrival next month, NASA’s MAVEN mission is ready to provide support and continue its study of the Martian atmosphere.\n/news/8844/nasas-maven-continues-to-advance-mars-science-and-telecommunications-relay-efforts/\n--------------------------------------------\n30\nNASA's Perseverance Rover 22 Days From Mars Landing\nSeven minutes of harrowing descent to the Red Planet is in the not-so-distant future for the agency’s Mars 2020 mission.  \n/news/8843/nasas-perseverance-rover-22-days-from-mars-landing/\n--------------------------------------------\n31\n6 Things to Know About NASA's Mars Helicopter on Its Way to Mars\nIngenuity, a technology experiment, is preparing to attempt the first powered, controlled flight on the Red Planet.\n/news/8840/6-things-to-know-about-nasas-mars-helicopter-on-its-way-to-mars/\n--------------------------------------------\n32\nNASA to Host Virtual Briefing on February Perseverance Mars Rover Landing\nNASA leadership and members of the mission will discuss the agency’s latest rover, which touches down on the Red Planet on Feb. 18.\n/news/8837/nasa-to-host-virtual-briefing-on-february-perseverance-mars-rover-landing/\n--------------------------------------------\n33\nNASA InSight's ‘Mole' Ends Its Journey on Mars\nThe heat probe hasn’t been able to gain the friction it needs to dig, but the mission has been granted an extension to carry on with its other science.\n/news/8836/nasa-insights-mole-ends-its-journey-on-mars/\n--------------------------------------------\n34\nMars 2020 Perseverance Rover to Capture Sounds From the Red Planet\nAudio gathered by the mission may not sound quite the same on Mars as it would to our ears on Earth. A new interactive online experience lets you sample the difference.\n/news/8834/mars-2020-perseverance-rover-to-capture-sounds-from-the-red-planet/\n--------------------------------------------\n35\nNASA's Curiosity Rover Reaches Its 3,000th Day on Mars\nAs the rover has continued to ascend Mount Sharp, it’s found distinctive benchlike rock formations.\n/news/8832/nasas-curiosity-rover-reaches-its-3000th-day-on-mars/\n--------------------------------------------\n36\nCelebrate the Perseverance Rover Landing With NASA's Student Challenge\nThe rover touches down on the Red Planet next month, and students are invited to join the excitement by designing, building, and landing their own Mars mission. NASA can help.\n/news/8830/celebrate-the-perseverance-rover-landing-with-nasas-student-challenge/\n--------------------------------------------\n37\nNASA Extends Exploration for Two Planetary Science Missions\nThe missions – Juno and InSight – have each increased our understanding of our solar system, as well as spurred new sets of diverse questions.\n/news/8829/nasa-extends-exploration-for-two-planetary-science-missions/\n--------------------------------------------\n38\n7 Things to Know About the NASA Rover About to Land on Mars\nThe Mars 2020 Perseverance rover, which has started its approach to the Red Planet, will help answer the next logical question in Mars exploration.\n/news/8826/7-things-to-know-about-the-nasa-rover-about-to-land-on-mars/\n--------------------------------------------\n39\nA Martian Roundtrip: NASA's Perseverance Rover Sample Tubes\nMarvels of engineering, the rover's sample tubes must be tough enough to safely bring Red Planet samples on the long journey back to Earth in immaculate condition. \n/news/8822/a-martian-roundtrip-nasas-perseverance-rover-sample-tubes/\n--------------------------------------------\n40\nNASA Moves Forward With Campaign to Return Mars Samples to Earth\nDuring this next phase, the program will mature critical technologies and make critical design decisions as well as assess industry partnerships.\n/news/8819/nasa-moves-forward-with-campaign-to-return-mars-samples-to-earth/\n--------------------------------------------\n"
     ]
    }
   ],
   "source": [
    "# Loop to scrape latest news title and paragraph text\n",
    "print('--------------------------------------------')\n",
    "count = 0\n",
    "\n",
    "for article in articles:\n",
    "    try:\n",
    "        # Scrape title, paragraph text, link href\n",
    "        news_title = article.find(class_='content_title').text\n",
    "        news_p = article.find(class_='article_teaser_body').text\n",
    "        news_href = article.find('a')['href']\n",
    "\n",
    "        # Append variable lists with each iteration\n",
    "        news_title_list.append(news_title)\n",
    "        news_p_list.append(news_p)\n",
    "        news_href_list.append(news_href)\n",
    "        count = count + 1\n",
    "\n",
    "        # Print values\n",
    "        print(count)\n",
    "        print(news_title)\n",
    "        print(news_p)\n",
    "        print(news_href)\n",
    "        print('--------------------------------------------')\n",
    "\n",
    "    except:\n",
    "        print('*** Error! ***')\n",
    "        \n",
    "time.sleep(3)"
   ]
  },
  {
   "cell_type": "markdown",
   "metadata": {},
   "source": [
    "### JPL Mars Space Images - Featured Image\n",
    "\n",
    "* Visit the url for JPL Featured Space Image [here](https://data-class-jpl-space.s3.amazonaws.com/JPL_Space/index.html).\n",
    "* Use splinter to navigate the site and find the image url for the current Featured Mars Image and assign the url string to a variable called `featured_image_url`.\n",
    "* Make sure to find the image url to the full size `.jpg` image.\n",
    "* Make sure to save a complete url string for this image."
   ]
  },
  {
   "cell_type": "code",
   "execution_count": 8,
   "metadata": {},
   "outputs": [],
   "source": [
    "# Current Featured Image url\n",
    "image_url_base = 'https://data-class-jpl-space.s3.amazonaws.com/JPL_Space/'\n",
    "image_url = f'{image_url_base}index.html'\n",
    "browser.visit(image_url)\n",
    "time.sleep(1)"
   ]
  },
  {
   "cell_type": "code",
   "execution_count": 9,
   "metadata": {},
   "outputs": [
    {
     "output_type": "stream",
     "name": "stderr",
     "text": [
      "C:\\Users\\Junette Lee\\Anaconda3\\lib\\site-packages\\splinter\\driver\\webdriver\\__init__.py:490: FutureWarning: browser.find_link_by_partial_text is deprecated. Use browser.links.find_by_partial_text instead.\n  warnings.warn(\n"
     ]
    }
   ],
   "source": [
    "# Follow link to featured image\n",
    "browser.click_link_by_partial_text('FULL IMAGE')\n",
    "image_html = browser.html\n",
    "time.sleep(1)"
   ]
  },
  {
   "cell_type": "code",
   "execution_count": 10,
   "metadata": {},
   "outputs": [],
   "source": [
    "# Write to HTML using BeautifulSoup\n",
    "image_soup = bs(image_html, 'html.parser')\n",
    "# print(image_soup.prettify())"
   ]
  },
  {
   "cell_type": "code",
   "execution_count": 11,
   "metadata": {},
   "outputs": [
    {
     "output_type": "stream",
     "name": "stdout",
     "text": [
      "JPL Mars Space Images - Featured Image URL: \nhttps://data-class-jpl-space.s3.amazonaws.com/JPL_Space/image/featured/mars3.jpg\n"
     ]
    }
   ],
   "source": [
    "# Find image src\n",
    "featured_image = image_soup.find(class_='fancybox-image')['src']\n",
    "# print(featured_image)\n",
    "\n",
    "# Find featured image url\n",
    "featured_image_url = image_url_base + featured_image\n",
    "print('JPL Mars Space Images - Featured Image URL: ')\n",
    "print(featured_image_url)\n",
    "\n",
    "time.sleep(3)"
   ]
  },
  {
   "cell_type": "markdown",
   "metadata": {},
   "source": [
    "### Mars Facts\n",
    "\n",
    "* Visit the Mars Facts webpage [here](https://space-facts.com/mars/) and use Pandas to scrape the table containing facts about the planet including Diameter, Mass, etc.\n",
    "* Use Pandas to convert the data to a HTML table string."
   ]
  },
  {
   "cell_type": "code",
   "execution_count": 12,
   "metadata": {},
   "outputs": [
    {
     "output_type": "execute_result",
     "data": {
      "text/plain": [
       "[                      0                              1\n",
       " 0  Equatorial Diameter:                       6,792 km\n",
       " 1       Polar Diameter:                       6,752 km\n",
       " 2                 Mass:  6.39 × 10^23 kg (0.11 Earths)\n",
       " 3                Moons:            2 (Phobos & Deimos)\n",
       " 4       Orbit Distance:       227,943,824 km (1.38 AU)\n",
       " 5         Orbit Period:           687 days (1.9 years)\n",
       " 6  Surface Temperature:                   -87 to -5 °C\n",
       " 7         First Record:              2nd millennium BC\n",
       " 8          Recorded By:           Egyptian astronomers,\n",
       "   Mars - Earth Comparison             Mars            Earth\n",
       " 0               Diameter:         6,779 km        12,742 km\n",
       " 1                   Mass:  6.39 × 10^23 kg  5.97 × 10^24 kg\n",
       " 2                  Moons:                2                1\n",
       " 3      Distance from Sun:   227,943,824 km   149,598,262 km\n",
       " 4         Length of Year:   687 Earth days      365.24 days\n",
       " 5            Temperature:     -87 to -5 °C      -88 to 58°C,\n",
       "                       0                              1\n",
       " 0  Equatorial Diameter:                       6,792 km\n",
       " 1       Polar Diameter:                       6,752 km\n",
       " 2                 Mass:  6.39 × 10^23 kg (0.11 Earths)\n",
       " 3                Moons:            2 (Phobos & Deimos)\n",
       " 4       Orbit Distance:       227,943,824 km (1.38 AU)\n",
       " 5         Orbit Period:           687 days (1.9 years)\n",
       " 6  Surface Temperature:                   -87 to -5 °C\n",
       " 7         First Record:              2nd millennium BC\n",
       " 8          Recorded By:           Egyptian astronomers]"
      ]
     },
     "metadata": {},
     "execution_count": 12
    }
   ],
   "source": [
    "# Scrape tabular data from url\n",
    "table_url = 'https://space-facts.com/mars/'\n",
    "mars_table = pd.read_html(table_url)\n",
    "mars_table\n",
    "# type(facts_table)"
   ]
  },
  {
   "cell_type": "code",
   "execution_count": 13,
   "metadata": {},
   "outputs": [
    {
     "output_type": "execute_result",
     "data": {
      "text/plain": [
       "            Description                          Value\n",
       "0  Equatorial Diameter:                       6,792 km\n",
       "1       Polar Diameter:                       6,752 km\n",
       "2                 Mass:  6.39 × 10^23 kg (0.11 Earths)\n",
       "3                Moons:            2 (Phobos & Deimos)\n",
       "4       Orbit Distance:       227,943,824 km (1.38 AU)\n",
       "5         Orbit Period:           687 days (1.9 years)\n",
       "6  Surface Temperature:                   -87 to -5 °C\n",
       "7         First Record:              2nd millennium BC\n",
       "8          Recorded By:           Egyptian astronomers"
      ],
      "text/html": "<div>\n<style scoped>\n    .dataframe tbody tr th:only-of-type {\n        vertical-align: middle;\n    }\n\n    .dataframe tbody tr th {\n        vertical-align: top;\n    }\n\n    .dataframe thead th {\n        text-align: right;\n    }\n</style>\n<table border=\"1\" class=\"dataframe\">\n  <thead>\n    <tr style=\"text-align: right;\">\n      <th></th>\n      <th>Description</th>\n      <th>Value</th>\n    </tr>\n  </thead>\n  <tbody>\n    <tr>\n      <th>0</th>\n      <td>Equatorial Diameter:</td>\n      <td>6,792 km</td>\n    </tr>\n    <tr>\n      <th>1</th>\n      <td>Polar Diameter:</td>\n      <td>6,752 km</td>\n    </tr>\n    <tr>\n      <th>2</th>\n      <td>Mass:</td>\n      <td>6.39 × 10^23 kg (0.11 Earths)</td>\n    </tr>\n    <tr>\n      <th>3</th>\n      <td>Moons:</td>\n      <td>2 (Phobos &amp; Deimos)</td>\n    </tr>\n    <tr>\n      <th>4</th>\n      <td>Orbit Distance:</td>\n      <td>227,943,824 km (1.38 AU)</td>\n    </tr>\n    <tr>\n      <th>5</th>\n      <td>Orbit Period:</td>\n      <td>687 days (1.9 years)</td>\n    </tr>\n    <tr>\n      <th>6</th>\n      <td>Surface Temperature:</td>\n      <td>-87 to -5 °C</td>\n    </tr>\n    <tr>\n      <th>7</th>\n      <td>First Record:</td>\n      <td>2nd millennium BC</td>\n    </tr>\n    <tr>\n      <th>8</th>\n      <td>Recorded By:</td>\n      <td>Egyptian astronomers</td>\n    </tr>\n  </tbody>\n</table>\n</div>"
     },
     "metadata": {},
     "execution_count": 13
    }
   ],
   "source": [
    "# Table containing facts about Mars including Diameter, Mass, etc.\n",
    "mars_table_df = mars_table[0]\n",
    "mars_table_df.columns = ['Description', 'Value']\n",
    "mars_table_df"
   ]
  },
  {
   "cell_type": "code",
   "execution_count": 14,
   "metadata": {},
   "outputs": [
    {
     "output_type": "execute_result",
     "data": {
      "text/plain": [
       "'<table border=\"1\" class=\"dataframe\">\\n  <thead>\\n    <tr style=\"text-align: right;\">\\n      <th></th>\\n      <th>Description</th>\\n      <th>Value</th>\\n    </tr>\\n  </thead>\\n  <tbody>\\n    <tr>\\n      <th>0</th>\\n      <td>Equatorial Diameter:</td>\\n      <td>6,792 km</td>\\n    </tr>\\n    <tr>\\n      <th>1</th>\\n      <td>Polar Diameter:</td>\\n      <td>6,752 km</td>\\n    </tr>\\n    <tr>\\n      <th>2</th>\\n      <td>Mass:</td>\\n      <td>6.39 × 10^23 kg (0.11 Earths)</td>\\n    </tr>\\n    <tr>\\n      <th>3</th>\\n      <td>Moons:</td>\\n      <td>2 (Phobos &amp; Deimos)</td>\\n    </tr>\\n    <tr>\\n      <th>4</th>\\n      <td>Orbit Distance:</td>\\n      <td>227,943,824 km (1.38 AU)</td>\\n    </tr>\\n    <tr>\\n      <th>5</th>\\n      <td>Orbit Period:</td>\\n      <td>687 days (1.9 years)</td>\\n    </tr>\\n    <tr>\\n      <th>6</th>\\n      <td>Surface Temperature:</td>\\n      <td>-87 to -5 °C</td>\\n    </tr>\\n    <tr>\\n      <th>7</th>\\n      <td>First Record:</td>\\n      <td>2nd millennium BC</td>\\n    </tr>\\n    <tr>\\n      <th>8</th>\\n      <td>Recorded By:</td>\\n      <td>Egyptian astronomers</td>\\n    </tr>\\n  </tbody>\\n</table>'"
      ]
     },
     "metadata": {},
     "execution_count": 14
    }
   ],
   "source": [
    "mars_table_html = mars_table_df.to_html()\n",
    "mars_table_html"
   ]
  },
  {
   "cell_type": "markdown",
   "metadata": {},
   "source": [
    "### Mars Hemispheres\n",
    "\n",
    "* Visit the USGS Astrogeology site [here](https://astrogeology.usgs.gov/search/results?q=hemisphere+enhanced&k1=target&v1=Mars) to obtain high resolution images for each of Mars' hemispheres.\n",
    "* You will need to click each of the links to the hemispheres in order to find the image url to the full resolution image.\n",
    "* Save both the image url string for the full resolution hemisphere image and the Hemisphere title containing the hemisphere name. Use a Python dictionary to store the data using the keys `img_url` and `title`.\n",
    "* Append the dictionary with the image url string and the hemisphere title to a list. This list will contain one dictionary for each hemisphere."
   ]
  },
  {
   "cell_type": "code",
   "execution_count": 15,
   "metadata": {},
   "outputs": [],
   "source": [
    "# Create list to hold image url and title variables\n",
    "hemisphere_image_urls = []"
   ]
  },
  {
   "cell_type": "code",
   "execution_count": 16,
   "metadata": {},
   "outputs": [],
   "source": [
    "# Define browser url to scrape\n",
    "hemi_url_base = 'https://astrogeology.usgs.gov/'\n",
    "hemi_url = f'{hemi_url_base}search/results?q=hemisphere+enhanced&k1=target&v1=Mars'\n",
    "browser.visit(hemi_url)\n",
    "time.sleep(1)"
   ]
  },
  {
   "cell_type": "code",
   "execution_count": 17,
   "metadata": {},
   "outputs": [],
   "source": [
    "# Write to HTML using BeautifulSoup\n",
    "hemi_html = browser.html\n",
    "hemi_soup = bs(hemi_html, 'html.parser')\n",
    "time.sleep(1)"
   ]
  },
  {
   "cell_type": "code",
   "execution_count": 18,
   "metadata": {
    "scrolled": false
   },
   "outputs": [],
   "source": [
    "# Hemisphere items returned in an iterable list\n",
    "hemis = hemi_soup.find_all('div', class_='item')\n",
    "# print(hemis[0].prettify())"
   ]
  },
  {
   "cell_type": "code",
   "execution_count": 19,
   "metadata": {},
   "outputs": [
    {
     "output_type": "stream",
     "name": "stdout",
     "text": [
      "https://astropedia.astrogeology.usgs.gov/download/Mars/Viking/cerberus_enhanced.tif/full.jpg\n",
      "https://astropedia.astrogeology.usgs.gov/download/Mars/Viking/schiaparelli_enhanced.tif/full.jpg\n",
      "https://astropedia.astrogeology.usgs.gov/download/Mars/Viking/syrtis_major_enhanced.tif/full.jpg\n",
      "https://astropedia.astrogeology.usgs.gov/download/Mars/Viking/valles_marineris_enhanced.tif/full.jpg\n"
     ]
    }
   ],
   "source": [
    "# Loop through each hemisphere\n",
    "for hemi in hemis:\n",
    "    # Scrape title and href for image link\n",
    "    title = hemi.find('h3').text\n",
    "    hemi_href = hemi.find('a', class_=\"itemLink product-item\")[\"href\"]\n",
    "    time.sleep(1)\n",
    "    \n",
    "    # Click link to find full res image url\n",
    "    browser.visit(hemi_url_base + hemi_href)\n",
    "    time.sleep(1)\n",
    "    \n",
    "    # Iteration html\n",
    "    hemi_loop_html = browser.html\n",
    "    hemi_loop_soup = bs(hemi_loop_html, 'html.parser')\n",
    "    \n",
    "    # Scrape full res image url\n",
    "    img_url = hemi_loop_soup.find(class_='downloads').a['href']\n",
    "    print(img_url)\n",
    "    \n",
    "    # Add to list\n",
    "    hemisphere_image_urls.append({'title': title, 'img_url': img_url})\n",
    "    time.sleep(1)"
   ]
  },
  {
   "cell_type": "code",
   "execution_count": 20,
   "metadata": {},
   "outputs": [
    {
     "output_type": "execute_result",
     "data": {
      "text/plain": [
       "[{'title': 'Cerberus Hemisphere Enhanced',\n",
       "  'img_url': 'https://astropedia.astrogeology.usgs.gov/download/Mars/Viking/cerberus_enhanced.tif/full.jpg'},\n",
       " {'title': 'Schiaparelli Hemisphere Enhanced',\n",
       "  'img_url': 'https://astropedia.astrogeology.usgs.gov/download/Mars/Viking/schiaparelli_enhanced.tif/full.jpg'},\n",
       " {'title': 'Syrtis Major Hemisphere Enhanced',\n",
       "  'img_url': 'https://astropedia.astrogeology.usgs.gov/download/Mars/Viking/syrtis_major_enhanced.tif/full.jpg'},\n",
       " {'title': 'Valles Marineris Hemisphere Enhanced',\n",
       "  'img_url': 'https://astropedia.astrogeology.usgs.gov/download/Mars/Viking/valles_marineris_enhanced.tif/full.jpg'}]"
      ]
     },
     "metadata": {},
     "execution_count": 20
    }
   ],
   "source": [
    "hemisphere_image_urls"
   ]
  },
  {
   "cell_type": "code",
   "execution_count": 21,
   "metadata": {},
   "outputs": [],
   "source": [
    "browser.quit()"
   ]
  },
  {
   "cell_type": "code",
   "execution_count": null,
   "metadata": {},
   "outputs": [],
   "source": []
  }
 ],
 "metadata": {
  "kernelspec": {
   "display_name": "Python 3",
   "language": "python",
   "name": "python3"
  },
  "language_info": {
   "codemirror_mode": {
    "name": "ipython",
    "version": 3
   },
   "file_extension": ".py",
   "mimetype": "text/x-python",
   "name": "python",
   "nbconvert_exporter": "python",
   "pygments_lexer": "ipython3",
   "version": "3.8.5-final"
  }
 },
 "nbformat": 4,
 "nbformat_minor": 2
}